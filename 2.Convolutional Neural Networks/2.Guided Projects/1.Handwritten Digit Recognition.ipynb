{
 "cells": [
  {
   "cell_type": "markdown",
   "metadata": {},
   "source": [
    "<a href=\"https://colab.research.google.com/github/Deep-Learning-Challenge/challenge-notebooks/blob/master/2.Convolutional%20Neural%20Networks/2.Guided%20Projects/1.Handwritten%20Digit%20Recognition.ipynb\" target=\"_parent\"><img src=\"https://colab.research.google.com/assets/colab-badge.svg\" /></a>"
   ]
  },
  {
   "cell_type": "markdown",
   "metadata": {},
   "source": [
    "# Handwritten Digit Recognition"
   ]
  },
  {
   "cell_type": "markdown",
   "metadata": {},
   "source": [
    "A popular demonstration of the capability of deep learning techniques is object recognition in image data. The hello world of object recognition for machine learning and deep learning is the MNIST dataset for handwritten digit recognition. In this project, you will discover how to develop a deep learning model to achieve near state-of-the-art performance on the MNIST handwritten digit recognition task in Python using the Keras deep learning library. After completing this step-by-step tutorial, you will know:\n",
    "* How to load the MNIST dataset in Keras and develop a baseline neural network model for the problem.\n",
    "* How to implement and evaluate a simple Convolutional Neural Network for MNIST.\n",
    "* How to implement a close to state-of-the-art deep learning model for MNIST.\n",
    "\n",
    "Let's get started.\n",
    "\n",
    "**Note**: You may want to speed up the tutorial's computation using GPU rather than CPU hardware. This is a suggestion, not a requirement. The tutorial will work just fine on the CPU."
   ]
  },
  {
   "cell_type": "markdown",
   "metadata": {},
   "source": [
    "## Handwritten Digit Recognition Dataset"
   ]
  },
  {
   "cell_type": "markdown",
   "metadata": {},
   "source": [
    "The MNIST problem is a dataset developed by Yann LeCun, Corinna Cortes, and Christopher Burges for evaluating machine learning models on the handwritten [digit classification problem](http://yann.lecun.com/exdb/mnist/). The dataset was constructed from a number of scanned document datasets available from the National Institute of Standards and Technology (NIST). This is where the name for the dataset comes from, as the Modified NIST or MNIST dataset.\n",
    "\n",
    "Images of digits were taken from a variety of scanned documents, normalized in size and centered. This makes it an excellent dataset for evaluating models, allowing the developer to focus on the machine learning with minimal data cleaning or preparation required. Each image is a 28 x 28-pixel square (784 pixels total). A standard split of the dataset is used to evaluate and compare models, where 60,000 images are used to train a model, and a separate set of 10,000 images are used to test it.\n",
    "\n",
    "It is a digit recognition task. As such, there are ten digits (0 to 9) or ten classes to predict. Results are reported using prediction error, which is nothing more than the inverted classification accuracy. Excellent results achieve a prediction error of less than 1%. A state-of-the-art prediction error of approximately 0.2% can be achieved with large Convolutional Neural Networks. There is a listing of the state-of-the-art results and links to the relevant papers on the MNIST and other datasets on [Rodrigo Benenson's webpage](http://rodrigob.github.io/are_we_there_yet/build/classification_datasets_results.html)."
   ]
  },
  {
   "cell_type": "markdown",
   "metadata": {},
   "source": [
    "## Loading the MNIST dataset in Keras"
   ]
  },
  {
   "cell_type": "markdown",
   "metadata": {},
   "source": [
    "The Keras deep learning library provides a convenient method for loading the MNIST dataset. The dataset is downloaded automatically the first time this function is called and is stored in your home directory in `~/.keras/datasets/mnist.pkl.gz` as a 15 megabyte file. This is very\n",
    "handy for developing and testing deep learning models. To demonstrate how easy it is to load the MNIST dataset, we will first write a little script to download and visualize the first four images in the training dataset."
   ]
  },
  {
   "cell_type": "code",
   "execution_count": 1,
   "metadata": {},
   "outputs": [
    {
     "name": "stderr",
     "output_type": "stream",
     "text": [
      "2021-11-01 22:52:56.614920: W tensorflow/stream_executor/platform/default/dso_loader.cc:64] Could not load dynamic library 'libcudart.so.11.0'; dlerror: libcudart.so.11.0: cannot open shared object file: No such file or directory\n",
      "2021-11-01 22:52:56.614998: I tensorflow/stream_executor/cuda/cudart_stub.cc:29] Ignore above cudart dlerror if you do not have a GPU set up on your machine.\n"
     ]
    },
    {
     "data": {
      "image/png": "[encoded data removed]",
      "text/plain": [
       "<Figure size 432x288 with 4 Axes>"
      ]
     },
     "metadata": {
      "needs_background": "light"
     },
     "output_type": "display_data"
    }
   ],
   "source": [
    "import tensorflow as tf\n",
    "\n",
    "# Plot ad hoc mnist instances\n",
    "from tensorflow.keras.datasets import mnist\n",
    "import matplotlib.pyplot as plt\n",
    "\n",
    "# load (downloaded if needed) the MNIST dataset\n",
    "(X_train, y_train), (X_test, y_test) = mnist.load_data()\n",
    "\n",
    "# plot 4 images as gray scale\n",
    "plt.subplot(221)\n",
    "plt.imshow(X_train[0], cmap=plt.get_cmap('gray'))\n",
    "plt.subplot(222)\n",
    "plt.imshow(X_train[1], cmap=plt.get_cmap('gray'))\n",
    "plt.subplot(223)\n",
    "plt.imshow(X_train[2], cmap=plt.get_cmap('gray'))\n",
    "plt.subplot(224)\n",
    "plt.imshow(X_train[3], cmap=plt.get_cmap('gray'))\n",
    "\n",
    "# show the plot\n",
    "plt.show()"
   ]
  },
  {
   "cell_type": "markdown",
   "metadata": {},
   "source": [
    "You can see that downloading and loading the MNIST dataset is as easy as calling the `mnist.load_data()` function."
   ]
  },
  {
   "cell_type": "markdown",
   "metadata": {},
   "source": [
    "## Baseline Model with Multilayer Perceptrons"
   ]
  },
  {
   "cell_type": "markdown",
   "metadata": {},
   "source": [
    "Do we need a complex model like a convolutional neural network to get the best results with MNIST? You can get good results using a straightforward neural network model with a single hidden layer. This section will create a simple Multilayer Perceptron model that achieves an error rate of approximately 1.73%. We will use this as a baseline for comparison to more complex convolutional neural network models. Let's start by importing the classes and functions we will need."
   ]
  },
  {
   "cell_type": "code",
   "execution_count": 2,
   "metadata": {},
   "outputs": [],
   "source": [
    "import numpy\n",
    "\n",
    "from tensorflow.keras.datasets import mnist\n",
    "from tensorflow.keras.models import Sequential\n",
    "from tensorflow.keras.layers import Dense\n",
    "from tensorflow.keras.layers import Dropout\n",
    "from tensorflow.keras import utils"
   ]
  },
  {
   "cell_type": "markdown",
   "metadata": {},
   "source": [
    "It is always a good idea to initialize the random number generator to a constant to ensure that your script results are reproducible."
   ]
  },
  {
   "cell_type": "code",
   "execution_count": 3,
   "metadata": {},
   "outputs": [],
   "source": [
    "# fix random seed for reproducibility\n",
    "seed = 7\n",
    "numpy.random.seed(seed)"
   ]
  },
  {
   "cell_type": "markdown",
   "metadata": {},
   "source": [
    "Now we can load the MNIST dataset using the Keras helper function."
   ]
  },
  {
   "cell_type": "code",
   "execution_count": 4,
   "metadata": {},
   "outputs": [],
   "source": [
    "# load data\n",
    "(X_train, y_train), (X_test, y_test) = mnist.load_data()"
   ]
  },
  {
   "cell_type": "markdown",
   "metadata": {},
   "source": [
    "The training dataset is structured as a 3-dimensional array of instances, image width, and image height. For a Multilayer Perceptron model, we must reduce the images down into a vector of pixels. In this case, the 28 x 28 sized images will be 784-pixel input vectors. We can do this transforms easily using the reshape() function on the NumPy array. The pixel values are integers, so we cast them to floating-point values to normalize them easily in the next step."
   ]
  },
  {
   "cell_type": "code",
   "execution_count": 5,
   "metadata": {},
   "outputs": [],
   "source": [
    "# flatten 28*28 images to a 784 vector for each image\n",
    "num_pixels = X_train.shape[1] * X_train.shape[2]\n",
    "X_train = X_train.reshape(X_train.shape[0], num_pixels).astype('float32')\n",
    "X_test = X_test.reshape(X_test.shape[0], num_pixels).astype('float32')"
   ]
  },
  {
   "cell_type": "markdown",
   "metadata": {},
   "source": [
    "The pixel values are grayscale between 0 and 255. It is almost always a good idea to perform some input values scaling when using neural network models. Because the scale is well known and well behaved, we can quickly normalize the pixel values to the range 0 and 1 by dividing each value by the maximum of 255."
   ]
  },
  {
   "cell_type": "code",
   "execution_count": 6,
   "metadata": {},
   "outputs": [],
   "source": [
    "# normalize inputs from 0-255 to 0-1\n",
    "X_train = X_train / 255\n",
    "X_test = X_test / 255"
   ]
  },
  {
   "cell_type": "markdown",
   "metadata": {},
   "source": [
    "Finally, the output variable is an integer from 0 to 9. This is a multiclass classification problem. It is good practice to use the one-hot encoding of the class values, transforming the vector of class integers into a binary matrix. We can easily do this using the built-in `np_utils.to_categorical()` helper function in Keras."
   ]
  },
  {
   "cell_type": "code",
   "execution_count": 7,
   "metadata": {},
   "outputs": [],
   "source": [
    "# one hot encode outputs\n",
    "y_train = utils.to_categorical(y_train)\n",
    "y_test = utils.to_categorical(y_test)\n",
    "num_classes = y_test.shape[1]"
   ]
  },
  {
   "cell_type": "markdown",
   "metadata": {},
   "source": [
    "We are now ready to create our simple neural network model. We will define our model in a function. This is handy if you want to extend the example later and try and get a better score."
   ]
  },
  {
   "cell_type": "code",
   "execution_count": 8,
   "metadata": {},
   "outputs": [],
   "source": [
    "# define baseline model\n",
    "def baseline_model():\n",
    "    # create model\n",
    "    model = Sequential()\n",
    "    model.add(Dense(num_pixels, input_dim=num_pixels, kernel_initializer='normal',\n",
    "    activation='relu'))\n",
    "    model.add(Dense(num_classes, kernel_initializer='normal', activation='softmax'))\n",
    "    \n",
    "    # Compile model\n",
    "    model.compile(loss='categorical_crossentropy', optimizer='adam', metrics=['accuracy'])\n",
    "    return model"
   ]
  },
  {
   "cell_type": "markdown",
   "metadata": {},
   "source": [
    "The model is a simple neural network with one hidden layer with the same number of neurons as there are inputs (784). A rectifier activation function is used for the neurons in the hidden layer. A softmax activation function is used on the output layer to turn the outputs into probability-like values and allow one class of the 10 to be selected as the model's output prediction. Logarithmic loss is used as the loss function (called categorical cross-entropy in Keras), and the efficient ADAM gradient descent algorithm is used to learn the weights. A summary of the network structure is provided below:"
   ]
  },
  {
   "cell_type": "markdown",
   "metadata": {},
   "source": [
    "![Summary of Multilayer Perceptron Network Structure](../../images/summary_mlp.png)"
   ]
  },
  {
   "cell_type": "markdown",
   "metadata": {},
   "source": [
    "We can now fit and evaluate the model. The model is fit over ten epochs with updates every 200 images. The test data is used as the validation dataset, allowing you to see the model's skill as it trains. A verbose value of 2 is used to reduce the output to one line for each training epoch. Finally, the test dataset is used to evaluate the model, and a classification error rate is printed.\n",
    "\n",
    "Running the example might take a few minutes when run on a CPU. You should see the output below. This simple network defined in very few lines of code achieves a respectable error rate of 1.78%."
   ]
  },
  {
   "cell_type": "code",
   "execution_count": 9,
   "metadata": {},
   "outputs": [
    {
     "name": "stderr",
     "output_type": "stream",
     "text": [
      "2021-11-01 22:53:13.683993: W tensorflow/stream_executor/platform/default/dso_loader.cc:64] Could not load dynamic library 'libcuda.so.1'; dlerror: libcuda.so.1: cannot open shared object file: No such file or directory\n",
      "2021-11-01 22:53:13.684098: W tensorflow/stream_executor/cuda/cuda_driver.cc:269] failed call to cuInit: UNKNOWN ERROR (303)\n",
      "2021-11-01 22:53:13.684175: I tensorflow/stream_executor/cuda/cuda_diagnostics.cc:156] kernel driver does not appear to be running on this host (6c3a25e0cdbe): /proc/driver/nvidia/version does not exist\n",
      "2021-11-01 22:53:13.685041: I tensorflow/core/platform/cpu_feature_guard.cc:142] This TensorFlow binary is optimized with oneAPI Deep Neural Network Library (oneDNN) to use the following CPU instructions in performance-critical operations:  AVX2 FMA\n",
      "To enable them in other operations, rebuild TensorFlow with the appropriate compiler flags.\n",
      "2021-11-01 22:53:14.364143: W tensorflow/core/framework/cpu_allocator_impl.cc:80] Allocation of 188160000 exceeds 10% of free system memory.\n",
      "2021-11-01 22:53:14.685679: I tensorflow/compiler/mlir/mlir_graph_optimization_pass.cc:185] None of the MLIR Optimization Passes are enabled (registered 2)\n"
     ]
    },
    {
     "name": "stdout",
     "output_type": "stream",
     "text": [
      "Epoch 1/10\n",
      "300/300 - 8s - loss: 0.2848 - accuracy: 0.9199 - val_loss: 0.1460 - val_accuracy: 0.9567\n",
      "Epoch 2/10\n",
      "300/300 - 4s - loss: 0.1113 - accuracy: 0.9676 - val_loss: 0.1046 - val_accuracy: 0.9691\n",
      "Epoch 3/10\n",
      "300/300 - 4s - loss: 0.0720 - accuracy: 0.9790 - val_loss: 0.0762 - val_accuracy: 0.9770\n",
      "Epoch 4/10\n",
      "300/300 - 4s - loss: 0.0490 - accuracy: 0.9861 - val_loss: 0.0702 - val_accuracy: 0.9784\n",
      "Epoch 5/10\n",
      "300/300 - 5s - loss: 0.0359 - accuracy: 0.9896 - val_loss: 0.0626 - val_accuracy: 0.9807\n",
      "Epoch 6/10\n",
      "300/300 - 4s - loss: 0.0260 - accuracy: 0.9932 - val_loss: 0.0635 - val_accuracy: 0.9803\n",
      "Epoch 7/10\n",
      "300/300 - 6s - loss: 0.0193 - accuracy: 0.9952 - val_loss: 0.0653 - val_accuracy: 0.9798\n",
      "Epoch 8/10\n",
      "300/300 - 9s - loss: 0.0144 - accuracy: 0.9967 - val_loss: 0.0605 - val_accuracy: 0.9804\n",
      "Epoch 9/10\n",
      "300/300 - 5s - loss: 0.0102 - accuracy: 0.9981 - val_loss: 0.0592 - val_accuracy: 0.9810\n",
      "Epoch 10/10\n",
      "300/300 - 4s - loss: 0.0072 - accuracy: 0.9991 - val_loss: 0.0602 - val_accuracy: 0.9814\n",
      "Baseline Error: 1.86%\n"
     ]
    }
   ],
   "source": [
    "# build the model\n",
    "model = baseline_model()\n",
    "\n",
    "# Fit the model\n",
    "model.fit(X_train, y_train, validation_data=(X_test, y_test), epochs=10, batch_size=200,\n",
    "verbose=2)\n",
    "\n",
    "# Final evaluation of the model\n",
    "scores = model.evaluate(X_test, y_test, verbose=0)\n",
    "print(\"Baseline Error: %.2f%%\" % (100-scores[1]*100))"
   ]
  },
  {
   "cell_type": "markdown",
   "metadata": {},
   "source": [
    "## Simple Convolutional Neural Network for MNIST"
   ]
  },
  {
   "cell_type": "markdown",
   "metadata": {},
   "source": [
    "Now that we have seen how to load the MNIST dataset and train a simple Multilayer Perceptron model, it is time to develop a more sophisticated convolutional neural network or CNN model. Keras does provide a lot of capability for creating convolutional neural networks. This section will create a simple CNN for MNIST that demonstrates how to use all aspects of a modern CNN implementation, including Convolutional layers, Pooling layers, and Dropout layers. The first step is to import the classes and functions needed."
   ]
  },
  {
   "cell_type": "code",
   "execution_count": 10,
   "metadata": {},
   "outputs": [],
   "source": [
    "import numpy\n",
    "from tensorflow.keras.datasets import mnist\n",
    "from tensorflow.keras.models import Sequential\n",
    "from tensorflow.keras.layers import Dense, Dropout, Flatten, Conv2D, MaxPooling2D\n",
    "from tensorflow.keras import utils"
   ]
  },
  {
   "cell_type": "markdown",
   "metadata": {},
   "source": [
    "Again, we always initialize the random number generator to a constant seed value for reproducibility of results."
   ]
  },
  {
   "cell_type": "code",
   "execution_count": 11,
   "metadata": {},
   "outputs": [],
   "source": [
    "# fix random seed for reproducibility\n",
    "seed = 7\n",
    "numpy.random.seed(seed)"
   ]
  },
  {
   "cell_type": "markdown",
   "metadata": {},
   "source": [
    "Next, we need to load the MNIST dataset and reshape it so that it is suitable for use training a CNN. In Keras, the layers used for two-dimensional convolutions expect pixel values with the dimensions `[samples][channels][width][height]`. Note, we are forcing so-called channels-first ordering for consistency in this example. In the case of RGB, the first dimension channels would be 3 for the red, green, and blue components, and it would be like having three image inputs for every color image. In MNIST, where the channel values are grayscale, the pixel dimension is set to 1."
   ]
  },
  {
   "cell_type": "code",
   "execution_count": 12,
   "metadata": {},
   "outputs": [],
   "source": [
    "# load data\n",
    "(X_train, y_train), (X_test, y_test) = mnist.load_data()\n",
    "\n",
    "# reshape to be [samples]width][height][channels]\n",
    "X_train = X_train.reshape(X_train.shape[0], 28, 28, 1).astype('float32')\n",
    "X_test = X_test.reshape(X_test.shape[0], 28, 28, 1).astype('float32')"
   ]
  },
  {
   "cell_type": "markdown",
   "metadata": {},
   "source": [
    "As before, it is a good idea to normalize the pixel values to the range 0 and 1, and one hot encode the output variable."
   ]
  },
  {
   "cell_type": "code",
   "execution_count": 13,
   "metadata": {},
   "outputs": [],
   "source": [
    "# normalize inputs from 0-255 to 0-1\n",
    "X_train = X_train / 255\n",
    "X_test = X_test / 255\n",
    "\n",
    "# one hot encode outputs\n",
    "y_train = utils.to_categorical(y_train)\n",
    "y_test = utils.to_categorical(y_test)\n",
    "num_classes = y_test.shape[1]"
   ]
  },
  {
   "cell_type": "markdown",
   "metadata": {},
   "source": [
    "Next, we define our neural network model. Convolutional neural networks are more complex than standard Multilayer Perceptrons, so we will start by using a simple structure, to begin with, that uses all of the elements for state-of-the-art results. Below summarizes the network architecture.\n",
    "\n",
    "1. The first hidden layer is a convolutional layer called a Conv2D. The layer has 32 feature maps, with a size of 5 x 5 and a rectifier activation function. This is the input layer, expecting images with the structure outline above.\n",
    "2. Next, we define a pooling layer that takes the maximum value called MaxPooling2D. It is configured with a pool size of 2 x 2.\n",
    "3. The next layer is a regularization layer using dropout called Dropout. It is configured to randomly exclude 20% of neurons in the layer to reduce overfitting.\n",
    "4. Next is a layer that converts the 2D matrix data to a vector called Flatten. It allows the output to be processed by standard fully connected layers.\n",
    "5. Next, a fully connected layer with 128 neurons and rectifier activation function is used.\n",
    "6. Finally, the output layer has ten neurons for the ten classes and a softmax activation function to output probability-like predictions for each class.\n",
    "\n",
    "As before, the model is trained using logarithmic loss and the ADAM gradient descent algorithm. A depiction of the network structure is provided below."
   ]
  },
  {
   "cell_type": "markdown",
   "metadata": {},
   "source": [
    "![Summary of Convolutional Neural Network Structure](../../images/summary_cnn.png)"
   ]
  },
  {
   "cell_type": "code",
   "execution_count": 14,
   "metadata": {},
   "outputs": [],
   "source": [
    "def baseline_model():\n",
    "    # create model\n",
    "    model = Sequential()\n",
    "    model.add(Conv2D(filters=32, kernel_size=(5, 5), input_shape=(28, 28, 1), activation='relu'))\n",
    "    model.add(MaxPooling2D())\n",
    "    model.add(Dropout(0.2))\n",
    "    model.add(Flatten())\n",
    "    model.add(Dense(128, activation='relu'))\n",
    "    model.add(Dense(num_classes, activation='softmax'))\n",
    "    \n",
    "    # Compile model\n",
    "    model.compile(loss='categorical_crossentropy', optimizer='adam', metrics=['accuracy'])\n",
    "    return model"
   ]
  },
  {
   "cell_type": "markdown",
   "metadata": {},
   "source": [
    "We evaluate the model the same way as before with the Multilayer Perceptron. The CNN is fit over ten epochs with a batch size of 200."
   ]
  },
  {
   "cell_type": "markdown",
   "metadata": {},
   "source": [
    "Running the example, the accuracy on the training and validation test is printed each epoch, and at the end of the classification error rate is printed. Epochs may take about 45 seconds to run on the GPU (e.g., on AWS). You can see that the network achieves an error rate of 1.20%, which is better than our simple Multilayer Perceptron model above."
   ]
  },
  {
   "cell_type": "code",
   "execution_count": 15,
   "metadata": {},
   "outputs": [
    {
     "name": "stderr",
     "output_type": "stream",
     "text": [
      "2021-11-01 22:54:12.709257: W tensorflow/core/framework/cpu_allocator_impl.cc:80] Allocation of 188160000 exceeds 10% of free system memory.\n"
     ]
    },
    {
     "name": "stdout",
     "output_type": "stream",
     "text": [
      "Epoch 1/10\n",
      "300/300 [==============================] - 40s 130ms/step - loss: 0.2478 - accuracy: 0.9286 - val_loss: 0.0888 - val_accuracy: 0.9728\n",
      "Epoch 2/10\n",
      "300/300 [==============================] - 33s 109ms/step - loss: 0.0782 - accuracy: 0.9766 - val_loss: 0.0516 - val_accuracy: 0.9833\n",
      "Epoch 3/10\n",
      "300/300 [==============================] - 36s 121ms/step - loss: 0.0529 - accuracy: 0.9841 - val_loss: 0.0428 - val_accuracy: 0.9857\n",
      "Epoch 4/10\n",
      "300/300 [==============================] - 46s 154ms/step - loss: 0.0429 - accuracy: 0.9866 - val_loss: 0.0383 - val_accuracy: 0.9870\n",
      "Epoch 5/10\n",
      "300/300 [==============================] - 39s 129ms/step - loss: 0.0347 - accuracy: 0.9890 - val_loss: 0.0379 - val_accuracy: 0.9870\n",
      "Epoch 6/10\n",
      "300/300 [==============================] - 36s 119ms/step - loss: 0.0292 - accuracy: 0.9907 - val_loss: 0.0377 - val_accuracy: 0.9861\n",
      "Epoch 7/10\n",
      "300/300 [==============================] - 33s 109ms/step - loss: 0.0236 - accuracy: 0.9924 - val_loss: 0.0317 - val_accuracy: 0.9891\n",
      "Epoch 8/10\n",
      "300/300 [==============================] - 33s 111ms/step - loss: 0.0203 - accuracy: 0.9938 - val_loss: 0.0330 - val_accuracy: 0.9885\n",
      "Epoch 9/10\n",
      "300/300 [==============================] - 37s 124ms/step - loss: 0.0175 - accuracy: 0.9942 - val_loss: 0.0342 - val_accuracy: 0.9895\n",
      "Epoch 10/10\n",
      "300/300 [==============================] - 31s 103ms/step - loss: 0.0142 - accuracy: 0.9952 - val_loss: 0.0375 - val_accuracy: 0.9890\n",
      "CNN Error: 1.10%\n"
     ]
    }
   ],
   "source": [
    "# build the model\n",
    "model = baseline_model()\n",
    "\n",
    "# Fit the model\n",
    "model.fit(X_train, y_train, validation_data=(X_test, y_test), epochs=10, batch_size=200)\n",
    "\n",
    "# Final evaluation of the model\n",
    "scores = model.evaluate(X_test, y_test, verbose=0)\n",
    "print(\"CNN Error: %.2f%%\" % (100-scores[1]*100))"
   ]
  },
  {
   "cell_type": "markdown",
   "metadata": {},
   "source": [
    "## Larger Convolutional Neural Network for MNIST"
   ]
  },
  {
   "cell_type": "markdown",
   "metadata": {},
   "source": [
    "Now that we have seen how to create a simple CNN, let's take a look at a model capable of close to state-of-the-art results. We import the classes and functions then load and prepare the data the same as in the previous CNN example. This time we define a larger CNN architecture with additional convolutional, max-pooling layers and fully connected layers. The network topology can be summarized as follows.\n",
    "\n",
    "1. Convolutional layer with 30 feature maps of size 5 x 5.\n",
    "2. Pooling layer taking the max over 2 x 2 patches.\n",
    "3. Convolutional layer with 15 feature maps of size 3 x 3.\n",
    "4. Pooling layer taking the max over 2 x 2 patches.\n",
    "5. Dropout layer with a probability of 20%.\n",
    "6. Flatten layer.\n",
    "7. Fully connected layer with 128 neurons and rectifier activation.\n",
    "8. Fully connected layer with 50 neurons and rectifier activation.\n",
    "9. Output layer.\n",
    "\n",
    "A depiction of this larger network structure is provided below."
   ]
  },
  {
   "cell_type": "markdown",
   "metadata": {},
   "source": [
    "![Summary of the Larger Convolutional Neural Network Structure](../../images/summary_cnn_larger.png)"
   ]
  },
  {
   "cell_type": "markdown",
   "metadata": {},
   "source": [
    "Like the previous two experiments, the model fits over ten epochs with a batch size of 200."
   ]
  },
  {
   "cell_type": "code",
   "execution_count": 16,
   "metadata": {},
   "outputs": [],
   "source": [
    "# define the larger model\n",
    "def larger_model():\n",
    "    # create model\n",
    "    model = Sequential()\n",
    "    model.add(Conv2D(30, (5, 5), input_shape=(28, 28, 1), activation='relu'))\n",
    "    model.add(MaxPooling2D())\n",
    "    model.add(Conv2D(15, (3, 3), activation='relu'))\n",
    "    model.add(MaxPooling2D())\n",
    "    model.add(Dropout(0.2))\n",
    "    model.add(Flatten())\n",
    "    model.add(Dense(128, activation='relu'))\n",
    "    model.add(Dense(50, activation='relu'))\n",
    "    model.add(Dense(num_classes, activation='softmax'))\n",
    "    \n",
    "    # Compile model\n",
    "    model.compile(loss='categorical_crossentropy', optimizer='adam', metrics=['accuracy'])\n",
    "    \n",
    "    return model"
   ]
  },
  {
   "cell_type": "markdown",
   "metadata": {},
   "source": [
    "Running the example prints accuracy on each epoch's training and validation datasets and a final classification error rate. The model takes about 60 seconds to run per epoch on a modern CPU. This slightly larger model achieves a respectable classification error rate of 1.06%."
   ]
  },
  {
   "cell_type": "code",
   "execution_count": 17,
   "metadata": {},
   "outputs": [
    {
     "name": "stderr",
     "output_type": "stream",
     "text": [
      "2021-11-01 23:00:39.850256: W tensorflow/core/framework/cpu_allocator_impl.cc:80] Allocation of 188160000 exceeds 10% of free system memory.\n"
     ]
    },
    {
     "name": "stdout",
     "output_type": "stream",
     "text": [
      "Epoch 1/10\n",
      "300/300 [==============================] - 45s 146ms/step - loss: 0.4067 - accuracy: 0.8716 - val_loss: 0.0829 - val_accuracy: 0.9721\n",
      "Epoch 2/10\n",
      "300/300 [==============================] - 39s 129ms/step - loss: 0.0992 - accuracy: 0.9695 - val_loss: 0.0518 - val_accuracy: 0.9838\n",
      "Epoch 3/10\n",
      "300/300 [==============================] - 40s 134ms/step - loss: 0.0742 - accuracy: 0.9773 - val_loss: 0.0432 - val_accuracy: 0.9863\n",
      "Epoch 4/10\n",
      "300/300 [==============================] - 41s 137ms/step - loss: 0.0584 - accuracy: 0.9818 - val_loss: 0.0432 - val_accuracy: 0.9867\n",
      "Epoch 5/10\n",
      "300/300 [==============================] - 45s 148ms/step - loss: 0.0501 - accuracy: 0.9847 - val_loss: 0.0298 - val_accuracy: 0.9898\n",
      "Epoch 6/10\n",
      "300/300 [==============================] - 47s 155ms/step - loss: 0.0445 - accuracy: 0.9858 - val_loss: 0.0292 - val_accuracy: 0.9909\n",
      "Epoch 7/10\n",
      "300/300 [==============================] - 44s 146ms/step - loss: 0.0403 - accuracy: 0.9877 - val_loss: 0.0269 - val_accuracy: 0.9916\n",
      "Epoch 8/10\n",
      "300/300 [==============================] - 44s 147ms/step - loss: 0.0353 - accuracy: 0.9888 - val_loss: 0.0286 - val_accuracy: 0.9900\n",
      "Epoch 9/10\n",
      "300/300 [==============================] - 43s 143ms/step - loss: 0.0326 - accuracy: 0.9896 - val_loss: 0.0250 - val_accuracy: 0.9914\n",
      "Epoch 10/10\n",
      "300/300 [==============================] - 44s 148ms/step - loss: 0.0282 - accuracy: 0.9907 - val_loss: 0.0256 - val_accuracy: 0.9906\n",
      "Large CNN Error: 0.94%\n"
     ]
    }
   ],
   "source": [
    "# build the model\n",
    "model = larger_model()\n",
    "\n",
    "# Fit the model\n",
    "model.fit(X_train, y_train, validation_data=(X_test, y_test), epochs=10, batch_size=200)\n",
    "\n",
    "# Final evaluation of the model\n",
    "scores = model.evaluate(X_test, y_test, verbose=0)\n",
    "print(\"Large CNN Error: %.2f%%\" % (100-scores[1]*100))"
   ]
  },
  {
   "cell_type": "markdown",
   "metadata": {},
   "source": [
    "## Extension Ideas to Improve the Model\n",
    "\n",
    "This is not an optimized network topology. Nor is this a reproduction of network topology from a recent paper. There is much opportunity for you to tune and improve upon this model. What is the best classification error rate you can achieve?"
   ]
  },
  {
   "cell_type": "markdown",
   "metadata": {},
   "source": [
    "## Summary"
   ]
  },
  {
   "cell_type": "markdown",
   "metadata": {},
   "source": [
    "In this lesson, you discovered the MNIST handwritten digit recognition problem and deep learning models developed in Python using the Keras library to achieve excellent results. Working through this tutorial, you learned:\n",
    "\n",
    "* How to load the MNIST dataset in Keras and generate plots of the dataset.\n",
    "* How to reshape the MNIST dataset and develop a simple but well-performing Multilayer Perceptron model for the problem.\n",
    "* How to use Keras to create convolutional neural network models for MNIST.\n",
    "* How to develop and evaluate larger CNN models for MNIST capable of near world-class results."
   ]
  }
 ],
 "metadata": {
  "kernelspec": {
   "display_name": "Python 3",
   "language": "python",
   "name": "python3"
  },
  "language_info": {
   "codemirror_mode": {
    "name": "ipython",
    "version": 3
   },
   "file_extension": ".py",
   "mimetype": "text/x-python",
   "name": "python",
   "nbconvert_exporter": "python",
   "pygments_lexer": "ipython3",
   "version": "3.6.9"
  }
 },
 "nbformat": 4,
 "nbformat_minor": 4
}
