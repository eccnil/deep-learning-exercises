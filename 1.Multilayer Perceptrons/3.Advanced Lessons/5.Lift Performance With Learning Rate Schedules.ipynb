{
 "cells": [
  {
   "cell_type": "markdown",
   "metadata": {},
   "source": [
    "<a href=\"https://colab.research.google.com/github/Deep-Learning-Challenge/challenge-notebooks/blob/master/1.Multilayer%20Perceptrons/3.Advanced%20Lessons/5.Lift%20Performance%20With%20Learning%20Rate%20Schedules.ipynb\" target=\"_parent\"><img src=\"https://colab.research.google.com/assets/colab-badge.svg\" /></a>"
   ]
  },
  {
   "cell_type": "markdown",
   "metadata": {},
   "source": [
    "# Lift Performance With Learning Rate Schedules"
   ]
  },
  {
   "cell_type": "markdown",
   "metadata": {},
   "source": [
    "Training a neural network or a large deep learning model is a difficult optimization task. The classical algorithm to train neural networks is called stochastic gradient descent. It has been well established that you can achieve increased performance and faster training on some problems using a learning rate during training. In this lesson, you will discover how you can use different learning rate schedules for your neural network models in Python using the Keras deep learning library. After completing this lesson, you will know:\n",
    "\n",
    "* The benefit of learning rate schedules on lifting model performance during training.\n",
    "* How to configure and evaluate a time-based learning rate schedule.\n",
    "* How to configure and evaluate a drop-based learning rate schedule.\n",
    "\n",
    "Let's get started."
   ]
  },
  {
   "cell_type": "markdown",
   "metadata": {},
   "source": [
    "## Runtime Setup"
   ]
  },
  {
   "cell_type": "code",
   "execution_count": 1,
   "metadata": {},
   "outputs": [
    {
     "data": {
      "text/plain": [
       "'../../datasets/ionosphere.csv'"
      ]
     },
     "execution_count": 1,
     "metadata": {},
     "output_type": "execute_result"
    }
   ],
   "source": [
    "import sys\n",
    "\n",
    "dataset_name = \"ionosphere.csv\"\n",
    "if 'google.colab' in sys.modules:\n",
    "    DATASET = f\"https://github.com/Deep-Learning-Challenge/challenge-notebooks/raw/master/datasets/{dataset_name}\"\n",
    "else:\n",
    "    DATASET = f\"../../datasets/{dataset_name}\"\n",
    "    \n",
    "DATASET"
   ]
  },
  {
   "cell_type": "markdown",
   "metadata": {},
   "source": [
    "## Learning Rate Schedule For Training Models"
   ]
  },
  {
   "cell_type": "markdown",
   "metadata": {},
   "source": [
    "Adapting the learning rate for your stochastic gradient descent optimization procedure can increase performance and reduce training time. Sometimes this is called learning rate annealing or adaptive learning rates. Here we will call this approach a learning rate schedule, where the default schedule is to use a constant learning rate to update network weights for each training epoch.\n",
    "\n",
    "The most straightforward and perhaps most used adaptation of learning rates during training are techniques that reduce the learning rate over time. These benefit from making large changes at the beginning of the training procedure when larger learning rate values are used and decreasing the learning rate such that a lower rate and therefore smaller training updates are made to weights later in the training procedure. This has the effect of quickly learning good weights early and fine-tuning them later. Two popular and easy to use learning rate schedules are as follows:\n",
    "\n",
    "* Decrease the learning rate gradually based on the epoch.\n",
    "* Decrease the learning rate using punctuated large drops at specific epochs.\n",
    "\n",
    "Next, we will look at how you can use each of these learning rate schedules in turn with Keras."
   ]
  },
  {
   "cell_type": "markdown",
   "metadata": {},
   "source": [
    "## Ionosphere Classification Dataset"
   ]
  },
  {
   "cell_type": "markdown",
   "metadata": {},
   "source": [
    "The Ionosphere binary classification problem is used as a demonstration in this lesson. The dataset describes radar returns where the target was free electrons in the ionosphere. It is a binary classification problem where positive cases (g for good) show that some structures in the ionosphere and negative cases (b for bad) do not. It is a useful dataset for practicing with neural networks because all of the inputs are small numerical values of the same scale. There are 34 attributes and 351 observations.\n",
    "\n",
    "State-of-the-art results on this dataset achieve an accuracy of approximately 94% to 98% accuracy using 10-fold cross-validation. You can learn more about the ionosphere dataset on the [UCI Machine Learning Repository\n",
    "website](https://archive.ics.uci.edu/ml/datasets/Ionosphere)."
   ]
  },
  {
   "cell_type": "markdown",
   "metadata": {},
   "source": [
    "## Time-Based Learning Rate Schedule"
   ]
  },
  {
   "cell_type": "markdown",
   "metadata": {},
   "source": [
    "Keras has a time-based learning rate schedule built-in. The stochastic gradient descent optimization algorithm implementation in the SGD class has an argument called decay. This argument is used in the time-based learning rate decay schedule equation as follows:\n",
    "\n",
    "$$ Learning Rate = LearningRate\\times\\frac{1}{1 + decay\\times epoch}  $$\n",
    "\n",
    "When the decay argument is zero (the default), this does not affect the learning rate (e.g., 0.1).\n",
    "\n",
    "```\n",
    "LearningRate = 0.1 * 1/(1 + 0.0 * 1)\n",
    "LearningRate = 0.1\n",
    "```\n",
    "\n",
    "When the decay argument is specified, it will decrease the previous epoch's learning rate by the given fixed amount. For example, if we use the initial learning rate value of 0.1 and the decay of 0.001, the first five epochs will adapt the learning rate as follows:\n",
    "\n",
    "```\n",
    "Epoch Learning Rate\n",
    "    1 0.1\n",
    "    2 0.0999000999\n",
    "    3 0.0997006985\n",
    "    4 0.09940249103\n",
    "    5 0.09900646517\n",
    "```\n",
    "\n",
    "Extending this out to 100 epochs will produce the following graph of learning rate (y-axis) versus epoch (x-axis):\n",
    "\n",
    "![Learning Rate Decay](../../images/learning_rate_decay.png)\n",
    "\n",
    "You can create a nice default schedule by setting the decay value as follows:\n",
    "\n",
    "```\n",
    "Decay = LearningRate / Epochs\n",
    "Decay = 0.1 / 100\n",
    "Decay = 0.001\n",
    "```\n",
    "\n",
    "The example below demonstrates using the time-based learning rate adaptation schedule in Keras. A small neural network model is constructed with a single hidden layer with 34 neurons and using the rectifier activation function. The output layer has a single neuron and uses the sigmoid activation function to output probability-like values. The learning rate for stochastic gradient descent has been set to a higher value of 0.1. The model is trained for 50 epochs, and the decay argument has been set to 0.002, calculated as $\\frac{0.1}{50}$.\n",
    "Additionally, it can be a good idea to use momentum when using an adaptive learning rate. In this case, we use a momentum value of 0.8. The complete example is listed below."
   ]
  },
  {
   "cell_type": "code",
   "execution_count": 2,
   "metadata": {},
   "outputs": [
    {
     "name": "stderr",
     "output_type": "stream",
     "text": [
      "2021-10-17 19:50:19.827987: W tensorflow/stream_executor/platform/default/dso_loader.cc:64] Could not load dynamic library 'libcudart.so.11.0'; dlerror: libcudart.so.11.0: cannot open shared object file: No such file or directory\n",
      "2021-10-17 19:50:19.828064: I tensorflow/stream_executor/cuda/cudart_stub.cc:29] Ignore above cudart dlerror if you do not have a GPU set up on your machine.\n",
      "2021-10-17 19:50:27.237481: W tensorflow/stream_executor/platform/default/dso_loader.cc:64] Could not load dynamic library 'libcuda.so.1'; dlerror: libcuda.so.1: cannot open shared object file: No such file or directory\n",
      "2021-10-17 19:50:27.237937: W tensorflow/stream_executor/cuda/cuda_driver.cc:269] failed call to cuInit: UNKNOWN ERROR (303)\n",
      "2021-10-17 19:50:27.238435: I tensorflow/stream_executor/cuda/cuda_diagnostics.cc:156] kernel driver does not appear to be running on this host (33d7dde1ac92): /proc/driver/nvidia/version does not exist\n",
      "2021-10-17 19:50:27.239968: I tensorflow/core/platform/cpu_feature_guard.cc:142] This TensorFlow binary is optimized with oneAPI Deep Neural Network Library (oneDNN) to use the following CPU instructions in performance-critical operations:  AVX2 FMA\n",
      "To enable them in other operations, rebuild TensorFlow with the appropriate compiler flags.\n",
      "/usr/local/lib/python3.9/site-packages/keras/optimizer_v2/optimizer_v2.py:355: UserWarning: The `lr` argument is deprecated, use `learning_rate` instead.\n",
      "  warnings.warn(\n"
     ]
    }
   ],
   "source": [
    "# Time Based Learning Rate Decay\n",
    "from pandas import read_csv\n",
    "import numpy\n",
    "\n",
    "from tensorflow.keras.models import Sequential\n",
    "from tensorflow.keras.layers import Dense\n",
    "from tensorflow.keras.optimizers import SGD\n",
    "from sklearn.preprocessing import LabelEncoder\n",
    "\n",
    "# fix random seed for reproducibility\n",
    "seed = 7\n",
    "numpy.random.seed(seed)\n",
    "\n",
    "# load dataset\n",
    "dataframe = read_csv(DATASET, header=None)\n",
    "dataset = dataframe.values\n",
    "\n",
    "# split into input (X) and output (Y) variables\n",
    "X = dataset[:,0:34].astype(float)\n",
    "Y = dataset[:,34]\n",
    "\n",
    "# encode class values as integers\n",
    "encoder = LabelEncoder()\n",
    "encoder.fit(Y)\n",
    "Y = encoder.transform(Y)\n",
    "\n",
    "# create model\n",
    "model = Sequential()\n",
    "model.add(Dense(34, input_dim=34, kernel_initializer='normal', activation='relu'))\n",
    "model.add(Dense(1, kernel_initializer='normal', activation='sigmoid'))\n",
    "\n",
    "# Compile model\n",
    "epochs = 50\n",
    "learning_rate = 0.1\n",
    "decay_rate = learning_rate / epochs\n",
    "momentum = 0.8\n",
    "sgd = SGD(lr=learning_rate, momentum=momentum, decay=decay_rate, nesterov=False)\n",
    "model.compile(loss='binary_crossentropy', optimizer=sgd, metrics=['accuracy'])"
   ]
  },
  {
   "cell_type": "markdown",
   "metadata": {},
   "source": [
    "The model is trained on 67% of the dataset and evaluated using a 33% validation dataset. Running the example shows a classification accuracy of 99.14%. This is higher than the baseline of 95.69% without the learning rate decay or momentum."
   ]
  },
  {
   "cell_type": "code",
   "execution_count": 3,
   "metadata": {},
   "outputs": [
    {
     "name": "stderr",
     "output_type": "stream",
     "text": [
      "2021-10-17 19:51:12.774731: I tensorflow/compiler/mlir/mlir_graph_optimization_pass.cc:185] None of the MLIR Optimization Passes are enabled (registered 2)\n"
     ]
    },
    {
     "name": "stdout",
     "output_type": "stream",
     "text": [
      "Epoch 1/50\n",
      "9/9 - 2s - loss: 0.6853 - accuracy: 0.6085 - val_loss: 0.6653 - val_accuracy: 0.7586\n",
      "Epoch 2/50\n",
      "9/9 - 0s - loss: 0.6499 - accuracy: 0.7915 - val_loss: 0.6110 - val_accuracy: 0.7069\n",
      "Epoch 3/50\n",
      "9/9 - 0s - loss: 0.5719 - accuracy: 0.7830 - val_loss: 0.4954 - val_accuracy: 0.8879\n",
      "Epoch 4/50\n",
      "9/9 - 0s - loss: 0.4621 - accuracy: 0.8511 - val_loss: 0.3728 - val_accuracy: 0.9483\n",
      "Epoch 5/50\n",
      "9/9 - 0s - loss: 0.3708 - accuracy: 0.8723 - val_loss: 0.2651 - val_accuracy: 0.9741\n",
      "Epoch 6/50\n",
      "9/9 - 0s - loss: 0.3150 - accuracy: 0.8936 - val_loss: 0.2312 - val_accuracy: 0.9655\n",
      "Epoch 7/50\n",
      "9/9 - 0s - loss: 0.2701 - accuracy: 0.8894 - val_loss: 0.3756 - val_accuracy: 0.8448\n",
      "Epoch 8/50\n",
      "9/9 - 0s - loss: 0.2350 - accuracy: 0.9191 - val_loss: 0.1577 - val_accuracy: 0.9741\n",
      "Epoch 9/50\n",
      "9/9 - 0s - loss: 0.2311 - accuracy: 0.9106 - val_loss: 0.0950 - val_accuracy: 0.9741\n",
      "Epoch 10/50\n",
      "9/9 - 0s - loss: 0.2488 - accuracy: 0.9064 - val_loss: 0.1965 - val_accuracy: 0.9569\n",
      "Epoch 11/50\n",
      "9/9 - 0s - loss: 0.1829 - accuracy: 0.9404 - val_loss: 0.1148 - val_accuracy: 0.9914\n",
      "Epoch 12/50\n",
      "9/9 - 0s - loss: 0.1730 - accuracy: 0.9362 - val_loss: 0.1631 - val_accuracy: 0.9655\n",
      "Epoch 13/50\n",
      "9/9 - 0s - loss: 0.1585 - accuracy: 0.9404 - val_loss: 0.1221 - val_accuracy: 0.9914\n",
      "Epoch 14/50\n",
      "9/9 - 0s - loss: 0.1458 - accuracy: 0.9574 - val_loss: 0.2162 - val_accuracy: 0.9224\n",
      "Epoch 15/50\n",
      "9/9 - 0s - loss: 0.1488 - accuracy: 0.9489 - val_loss: 0.1468 - val_accuracy: 0.9741\n",
      "Epoch 16/50\n",
      "9/9 - 0s - loss: 0.1327 - accuracy: 0.9574 - val_loss: 0.1506 - val_accuracy: 0.9655\n",
      "Epoch 17/50\n",
      "9/9 - 0s - loss: 0.1218 - accuracy: 0.9660 - val_loss: 0.1083 - val_accuracy: 0.9914\n",
      "Epoch 18/50\n",
      "9/9 - 0s - loss: 0.1184 - accuracy: 0.9574 - val_loss: 0.0887 - val_accuracy: 0.9914\n",
      "Epoch 19/50\n",
      "9/9 - 0s - loss: 0.1244 - accuracy: 0.9617 - val_loss: 0.1376 - val_accuracy: 0.9741\n",
      "Epoch 20/50\n",
      "9/9 - 0s - loss: 0.1158 - accuracy: 0.9660 - val_loss: 0.1281 - val_accuracy: 0.9741\n",
      "Epoch 21/50\n",
      "9/9 - 0s - loss: 0.1056 - accuracy: 0.9702 - val_loss: 0.0875 - val_accuracy: 0.9914\n",
      "Epoch 22/50\n",
      "9/9 - 0s - loss: 0.1019 - accuracy: 0.9660 - val_loss: 0.0796 - val_accuracy: 0.9914\n",
      "Epoch 23/50\n",
      "9/9 - 0s - loss: 0.1024 - accuracy: 0.9660 - val_loss: 0.1342 - val_accuracy: 0.9741\n",
      "Epoch 24/50\n",
      "9/9 - 0s - loss: 0.0959 - accuracy: 0.9745 - val_loss: 0.0935 - val_accuracy: 0.9914\n",
      "Epoch 25/50\n",
      "9/9 - 0s - loss: 0.0927 - accuracy: 0.9702 - val_loss: 0.0918 - val_accuracy: 0.9914\n",
      "Epoch 26/50\n",
      "9/9 - 0s - loss: 0.0867 - accuracy: 0.9745 - val_loss: 0.0671 - val_accuracy: 0.9914\n",
      "Epoch 27/50\n",
      "9/9 - 0s - loss: 0.0917 - accuracy: 0.9745 - val_loss: 0.0840 - val_accuracy: 0.9914\n",
      "Epoch 28/50\n",
      "9/9 - 0s - loss: 0.0887 - accuracy: 0.9745 - val_loss: 0.1058 - val_accuracy: 0.9828\n",
      "Epoch 29/50\n",
      "9/9 - 0s - loss: 0.0846 - accuracy: 0.9787 - val_loss: 0.0767 - val_accuracy: 0.9914\n",
      "Epoch 30/50\n",
      "9/9 - 0s - loss: 0.0805 - accuracy: 0.9787 - val_loss: 0.1088 - val_accuracy: 0.9914\n",
      "Epoch 31/50\n",
      "9/9 - 0s - loss: 0.0805 - accuracy: 0.9787 - val_loss: 0.0606 - val_accuracy: 0.9914\n",
      "Epoch 32/50\n",
      "9/9 - 0s - loss: 0.0778 - accuracy: 0.9787 - val_loss: 0.1474 - val_accuracy: 0.9741\n",
      "Epoch 33/50\n",
      "9/9 - 0s - loss: 0.0818 - accuracy: 0.9745 - val_loss: 0.0643 - val_accuracy: 0.9914\n",
      "Epoch 34/50\n",
      "9/9 - 0s - loss: 0.0726 - accuracy: 0.9787 - val_loss: 0.0924 - val_accuracy: 0.9914\n",
      "Epoch 35/50\n",
      "9/9 - 0s - loss: 0.0695 - accuracy: 0.9787 - val_loss: 0.0723 - val_accuracy: 0.9914\n",
      "Epoch 36/50\n",
      "9/9 - 0s - loss: 0.0678 - accuracy: 0.9830 - val_loss: 0.0890 - val_accuracy: 0.9914\n",
      "Epoch 37/50\n",
      "9/9 - 0s - loss: 0.0726 - accuracy: 0.9787 - val_loss: 0.0836 - val_accuracy: 0.9914\n",
      "Epoch 38/50\n",
      "9/9 - 0s - loss: 0.0676 - accuracy: 0.9830 - val_loss: 0.0727 - val_accuracy: 0.9914\n",
      "Epoch 39/50\n",
      "9/9 - 0s - loss: 0.0638 - accuracy: 0.9830 - val_loss: 0.0793 - val_accuracy: 0.9914\n",
      "Epoch 40/50\n",
      "9/9 - 0s - loss: 0.0646 - accuracy: 0.9872 - val_loss: 0.0607 - val_accuracy: 0.9914\n",
      "Epoch 41/50\n",
      "9/9 - 0s - loss: 0.0619 - accuracy: 0.9830 - val_loss: 0.0931 - val_accuracy: 0.9914\n",
      "Epoch 42/50\n",
      "9/9 - 0s - loss: 0.0600 - accuracy: 0.9872 - val_loss: 0.0606 - val_accuracy: 0.9914\n",
      "Epoch 43/50\n",
      "9/9 - 0s - loss: 0.0593 - accuracy: 0.9830 - val_loss: 0.0742 - val_accuracy: 0.9914\n",
      "Epoch 44/50\n",
      "9/9 - 0s - loss: 0.0578 - accuracy: 0.9872 - val_loss: 0.0671 - val_accuracy: 0.9914\n",
      "Epoch 45/50\n",
      "9/9 - 0s - loss: 0.0594 - accuracy: 0.9830 - val_loss: 0.0791 - val_accuracy: 0.9914\n",
      "Epoch 46/50\n",
      "9/9 - 0s - loss: 0.0580 - accuracy: 0.9787 - val_loss: 0.0758 - val_accuracy: 0.9914\n",
      "Epoch 47/50\n",
      "9/9 - 0s - loss: 0.0567 - accuracy: 0.9872 - val_loss: 0.0678 - val_accuracy: 0.9914\n",
      "Epoch 48/50\n",
      "9/9 - 0s - loss: 0.0550 - accuracy: 0.9830 - val_loss: 0.0674 - val_accuracy: 0.9914\n",
      "Epoch 49/50\n",
      "9/9 - 0s - loss: 0.0544 - accuracy: 0.9830 - val_loss: 0.0639 - val_accuracy: 0.9914\n",
      "Epoch 50/50\n",
      "9/9 - 0s - loss: 0.0554 - accuracy: 0.9872 - val_loss: 0.0783 - val_accuracy: 0.9914\n"
     ]
    },
    {
     "data": {
      "text/plain": [
       "<keras.callbacks.History at 0x7f310432caf0>"
      ]
     },
     "execution_count": 3,
     "metadata": {},
     "output_type": "execute_result"
    }
   ],
   "source": [
    "# Fit the model\n",
    "model.fit(X, Y, validation_split=0.33, epochs=epochs, batch_size=28, verbose=2)"
   ]
  },
  {
   "cell_type": "markdown",
   "metadata": {},
   "source": [
    "## Drop-Based Learning Rate Schedule"
   ]
  },
  {
   "cell_type": "markdown",
   "metadata": {},
   "source": [
    "Another popular learning rate schedule used with deep learning models is to drop the learning rate at specific times during training systematically. Often this method is implemented by dropping the learning rate by half every fixed number of epochs. For example, we may have an initial learning rate of 0.1 and drop it by a factor of 0.5 every ten epochs. The fixed ten epochs of training would use a value of 0.1, in the next ten epochs, a learning rate of 0.05 would be used, and so on. If we plot out the learning rates for this example out to 100 epochs, you get the graph below-showing learning rate (y-axis) versus epoch (x-axis).\n",
    "\n",
    "![Learning Rate Scheduke](../../images/learning_rate_schedule.png)\n",
    "\n",
    "We can implement this in Keras using the `LearningRateScheduler` callback when fitting the model. The `LearningRateScheduler` callback allows us to define a function to call that takes the epoch number as an argument and returns the learning rate to use in stochastic gradient descent. When used, the learning rate specified by stochastic gradient descent is ignored. In the code below, we use the same example as a single hidden layer network on the Ionosphere dataset. A new `step_decay()` function is defined that implements the equation:\n",
    "\n",
    "$$ LearningRate=InitialLearningRate \\times {DropRate}^{floor(\\frac{1+Epoch}{EpochDrop})} $$\n",
    "\n",
    "`InitialLearningRate` is the learning rate at the beginning of the run, `EpochDrop` is how often the learning rate is dropped in epochs, and `DropRate` is how much to drop the learning rate each time it is dropped."
   ]
  },
  {
   "cell_type": "code",
   "execution_count": 4,
   "metadata": {},
   "outputs": [],
   "source": [
    "# Drop-Based Learning Rate Decay\n",
    "from pandas import read_csv\n",
    "import numpy\n",
    "import math\n",
    "\n",
    "from tensorflow.keras.models import Sequential\n",
    "from tensorflow.keras.layers import Dense\n",
    "from tensorflow.keras.optimizers import SGD\n",
    "from tensorflow.keras.callbacks import LearningRateScheduler\n",
    "\n",
    "from sklearn.preprocessing import LabelEncoder\n",
    "\n",
    "# learning rate schedule\n",
    "def step_decay(epoch):\n",
    "    initial_lrate = 0.1\n",
    "    drop = 0.5\n",
    "    epochs_drop = 10.0\n",
    "    lrate = initial_lrate * math.pow(drop, math.floor((1+epoch)/epochs_drop))\n",
    "    return lrate\n",
    "\n",
    "# fix random seed for reproducibility\n",
    "seed = 7\n",
    "numpy.random.seed(seed)\n",
    "\n",
    "# load dataset\n",
    "dataframe = read_csv(DATASET, header=None)\n",
    "dataset = dataframe.values\n",
    "\n",
    "# split into input (X) and output (Y) variables\n",
    "X = dataset[:,0:34].astype(float)\n",
    "Y = dataset[:,34]\n",
    "\n",
    "# encode class values as integers\n",
    "encoder = LabelEncoder()\n",
    "encoder.fit(Y)\n",
    "Y = encoder.transform(Y)\n",
    "\n",
    "# create model\n",
    "model = Sequential()\n",
    "model.add(Dense(34, input_dim=34, kernel_initializer='normal', activation='relu'))\n",
    "model.add(Dense(1, kernel_initializer='normal', activation='sigmoid'))\n",
    "\n",
    "# Compile model\n",
    "sgd = SGD(lr=0.0, momentum=0.9, decay=0.0, nesterov=False)\n",
    "model.compile(loss='binary_crossentropy', optimizer=sgd, metrics=['accuracy'])\n",
    "\n",
    "# learning schedule callback\n",
    "lrate = LearningRateScheduler(step_decay)\n",
    "callbacks_list = [lrate]"
   ]
  },
  {
   "cell_type": "markdown",
   "metadata": {},
   "source": [
    "Running the example results in a classification accuracy of 99.14% on the validation dataset, again an improvement over the baseline for the model on this dataset."
   ]
  },
  {
   "cell_type": "code",
   "execution_count": 5,
   "metadata": {},
   "outputs": [
    {
     "name": "stdout",
     "output_type": "stream",
     "text": [
      "Epoch 1/50\n",
      "9/9 - 2s - loss: 0.6785 - accuracy: 0.6000 - val_loss: 0.5607 - val_accuracy: 0.9138\n",
      "Epoch 2/50\n",
      "9/9 - 0s - loss: 0.6141 - accuracy: 0.7149 - val_loss: 0.4691 - val_accuracy: 0.9397\n",
      "Epoch 3/50\n",
      "9/9 - 0s - loss: 0.4777 - accuracy: 0.8213 - val_loss: 0.3809 - val_accuracy: 0.9397\n",
      "Epoch 4/50\n",
      "9/9 - 0s - loss: 0.3608 - accuracy: 0.8809 - val_loss: 0.3406 - val_accuracy: 0.8707\n",
      "Epoch 5/50\n",
      "9/9 - 0s - loss: 0.3070 - accuracy: 0.8851 - val_loss: 0.4451 - val_accuracy: 0.7672\n",
      "Epoch 6/50\n",
      "9/9 - 0s - loss: 0.2442 - accuracy: 0.8979 - val_loss: 0.2163 - val_accuracy: 0.9224\n",
      "Epoch 7/50\n",
      "9/9 - 0s - loss: 0.2019 - accuracy: 0.9149 - val_loss: 0.1125 - val_accuracy: 0.9655\n",
      "Epoch 8/50\n",
      "9/9 - 0s - loss: 0.1821 - accuracy: 0.9404 - val_loss: 0.0933 - val_accuracy: 0.9741\n",
      "Epoch 9/50\n",
      "9/9 - 0s - loss: 0.1650 - accuracy: 0.9277 - val_loss: 0.1210 - val_accuracy: 0.9655\n",
      "Epoch 10/50\n",
      "9/9 - 0s - loss: 0.1405 - accuracy: 0.9532 - val_loss: 0.1322 - val_accuracy: 0.9741\n",
      "Epoch 11/50\n",
      "9/9 - 0s - loss: 0.1640 - accuracy: 0.9319 - val_loss: 0.0816 - val_accuracy: 0.9741\n",
      "Epoch 12/50\n",
      "9/9 - 0s - loss: 0.1260 - accuracy: 0.9447 - val_loss: 0.1440 - val_accuracy: 0.9741\n",
      "Epoch 13/50\n",
      "9/9 - 0s - loss: 0.1093 - accuracy: 0.9617 - val_loss: 0.0960 - val_accuracy: 0.9741\n",
      "Epoch 14/50\n",
      "9/9 - 0s - loss: 0.1143 - accuracy: 0.9660 - val_loss: 0.1013 - val_accuracy: 0.9655\n",
      "Epoch 15/50\n",
      "9/9 - 0s - loss: 0.1200 - accuracy: 0.9574 - val_loss: 0.0877 - val_accuracy: 0.9741\n",
      "Epoch 16/50\n",
      "9/9 - 0s - loss: 0.1107 - accuracy: 0.9617 - val_loss: 0.0910 - val_accuracy: 0.9741\n",
      "Epoch 17/50\n",
      "9/9 - 0s - loss: 0.0954 - accuracy: 0.9660 - val_loss: 0.1152 - val_accuracy: 0.9741\n",
      "Epoch 18/50\n",
      "9/9 - 0s - loss: 0.0916 - accuracy: 0.9702 - val_loss: 0.0870 - val_accuracy: 0.9741\n",
      "Epoch 19/50\n",
      "9/9 - 0s - loss: 0.0881 - accuracy: 0.9787 - val_loss: 0.1018 - val_accuracy: 0.9828\n",
      "Epoch 20/50\n",
      "9/9 - 0s - loss: 0.0855 - accuracy: 0.9702 - val_loss: 0.0853 - val_accuracy: 0.9828\n",
      "Epoch 21/50\n",
      "9/9 - 0s - loss: 0.0824 - accuracy: 0.9787 - val_loss: 0.0948 - val_accuracy: 0.9828\n",
      "Epoch 22/50\n",
      "9/9 - 0s - loss: 0.0825 - accuracy: 0.9745 - val_loss: 0.0829 - val_accuracy: 0.9828\n",
      "Epoch 23/50\n",
      "9/9 - 0s - loss: 0.0780 - accuracy: 0.9830 - val_loss: 0.0885 - val_accuracy: 0.9828\n",
      "Epoch 24/50\n",
      "9/9 - 0s - loss: 0.0770 - accuracy: 0.9787 - val_loss: 0.0858 - val_accuracy: 0.9828\n",
      "Epoch 25/50\n",
      "9/9 - 0s - loss: 0.0765 - accuracy: 0.9787 - val_loss: 0.0779 - val_accuracy: 0.9828\n",
      "Epoch 26/50\n",
      "9/9 - 0s - loss: 0.0756 - accuracy: 0.9830 - val_loss: 0.0879 - val_accuracy: 0.9828\n",
      "Epoch 27/50\n",
      "9/9 - 0s - loss: 0.0736 - accuracy: 0.9830 - val_loss: 0.0812 - val_accuracy: 0.9828\n",
      "Epoch 28/50\n",
      "9/9 - 0s - loss: 0.0721 - accuracy: 0.9830 - val_loss: 0.0830 - val_accuracy: 0.9828\n",
      "Epoch 29/50\n",
      "9/9 - 0s - loss: 0.0721 - accuracy: 0.9830 - val_loss: 0.0814 - val_accuracy: 0.9828\n",
      "Epoch 30/50\n",
      "9/9 - 0s - loss: 0.0707 - accuracy: 0.9830 - val_loss: 0.0737 - val_accuracy: 0.9828\n",
      "Epoch 31/50\n",
      "9/9 - 0s - loss: 0.0699 - accuracy: 0.9830 - val_loss: 0.0749 - val_accuracy: 0.9828\n",
      "Epoch 32/50\n",
      "9/9 - 0s - loss: 0.0685 - accuracy: 0.9830 - val_loss: 0.0771 - val_accuracy: 0.9828\n",
      "Epoch 33/50\n",
      "9/9 - 0s - loss: 0.0685 - accuracy: 0.9830 - val_loss: 0.0769 - val_accuracy: 0.9828\n",
      "Epoch 34/50\n",
      "9/9 - 0s - loss: 0.0685 - accuracy: 0.9830 - val_loss: 0.0823 - val_accuracy: 0.9828\n",
      "Epoch 35/50\n",
      "9/9 - 0s - loss: 0.0672 - accuracy: 0.9830 - val_loss: 0.0770 - val_accuracy: 0.9828\n",
      "Epoch 36/50\n",
      "9/9 - 0s - loss: 0.0667 - accuracy: 0.9830 - val_loss: 0.0757 - val_accuracy: 0.9828\n",
      "Epoch 37/50\n",
      "9/9 - 0s - loss: 0.0663 - accuracy: 0.9830 - val_loss: 0.0757 - val_accuracy: 0.9828\n",
      "Epoch 38/50\n",
      "9/9 - 0s - loss: 0.0656 - accuracy: 0.9830 - val_loss: 0.0761 - val_accuracy: 0.9828\n",
      "Epoch 39/50\n",
      "9/9 - 0s - loss: 0.0653 - accuracy: 0.9830 - val_loss: 0.0771 - val_accuracy: 0.9828\n",
      "Epoch 40/50\n",
      "9/9 - 0s - loss: 0.0645 - accuracy: 0.9830 - val_loss: 0.0792 - val_accuracy: 0.9828\n",
      "Epoch 41/50\n",
      "9/9 - 0s - loss: 0.0647 - accuracy: 0.9830 - val_loss: 0.0795 - val_accuracy: 0.9828\n",
      "Epoch 42/50\n",
      "9/9 - 0s - loss: 0.0644 - accuracy: 0.9830 - val_loss: 0.0792 - val_accuracy: 0.9828\n",
      "Epoch 43/50\n",
      "9/9 - 0s - loss: 0.0640 - accuracy: 0.9830 - val_loss: 0.0755 - val_accuracy: 0.9828\n",
      "Epoch 44/50\n",
      "9/9 - 0s - loss: 0.0637 - accuracy: 0.9830 - val_loss: 0.0739 - val_accuracy: 0.9828\n",
      "Epoch 45/50\n",
      "9/9 - 0s - loss: 0.0634 - accuracy: 0.9830 - val_loss: 0.0750 - val_accuracy: 0.9828\n",
      "Epoch 46/50\n",
      "9/9 - 0s - loss: 0.0632 - accuracy: 0.9830 - val_loss: 0.0736 - val_accuracy: 0.9828\n",
      "Epoch 47/50\n",
      "9/9 - 0s - loss: 0.0631 - accuracy: 0.9830 - val_loss: 0.0736 - val_accuracy: 0.9828\n",
      "Epoch 48/50\n",
      "9/9 - 0s - loss: 0.0630 - accuracy: 0.9830 - val_loss: 0.0758 - val_accuracy: 0.9828\n",
      "Epoch 49/50\n",
      "9/9 - 0s - loss: 0.0626 - accuracy: 0.9830 - val_loss: 0.0742 - val_accuracy: 0.9828\n",
      "Epoch 50/50\n",
      "9/9 - 0s - loss: 0.0623 - accuracy: 0.9830 - val_loss: 0.0734 - val_accuracy: 0.9828\n"
     ]
    },
    {
     "data": {
      "text/plain": [
       "<keras.callbacks.History at 0x7f3104d3fca0>"
      ]
     },
     "execution_count": 5,
     "metadata": {},
     "output_type": "execute_result"
    }
   ],
   "source": [
    "# Fit the model\n",
    "model.fit(X, Y, validation_split=0.33, epochs=50, batch_size=28, callbacks=callbacks_list,\n",
    "verbose=2)"
   ]
  },
  {
   "cell_type": "markdown",
   "metadata": {},
   "source": [
    "## Tips for Using Learning Rate Schedules"
   ]
  },
  {
   "cell_type": "markdown",
   "metadata": {},
   "source": [
    "This section lists some tips and tricks to consider when using learning rate schedules with neural networks.\n",
    "\n",
    "* **Increase the initial learning rate**: Because the learning rate will decrease, start with a larger value to decrease from. A larger learning rate will result in much larger changes to the weights, at least in the beginning, allowing you to benefit from fine-tuning later.\n",
    "* **Use a large momentum**: Using a larger momentum value will help the optimization algorithm continue to make updates in the right direction when your learning rate shrinks to small values.\n",
    "* **Experiment with schedules**: It will not be clear which learning rate schedule to use, so try a few with different configuration options and see what works best on your problem. Also, try schedules that change exponentially and even schedules that respond to your model's accuracy on the training or test datasets."
   ]
  },
  {
   "cell_type": "markdown",
   "metadata": {},
   "source": [
    "## Summary"
   ]
  },
  {
   "cell_type": "markdown",
   "metadata": {},
   "source": [
    "In this lesson, you discovered learning rate schedules for training neural network models. You learned:\n",
    "\n",
    "* The benefits of using learning rate schedules during training to lift model performance.\n",
    "* How to configure and use a time-based learning rate schedule in Keras.\n",
    "* How to develop your drop-based learning rate schedule in Keras."
   ]
  }
 ],
 "metadata": {
  "interpreter": {
   "hash": "aee8b7b246df8f9039afb4144a1f6fd8d2ca17a180786b69acc140d282b71a49"
  },
  "kernelspec": {
   "display_name": "Python 3.9.7 64-bit",
   "name": "python3"
  },
  "language_info": {
   "codemirror_mode": {
    "name": "ipython",
    "version": 3
   },
   "file_extension": ".py",
   "mimetype": "text/x-python",
   "name": "python",
   "nbconvert_exporter": "python",
   "pygments_lexer": "ipython3",
   "version": "3.9.7"
  }
 },
 "nbformat": 4,
 "nbformat_minor": 4
}
